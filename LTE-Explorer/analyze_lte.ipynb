{
 "cells": [
  {
   "cell_type": "code",
   "execution_count": 1,
   "metadata": {},
   "outputs": [],
   "source": [
    "import pandas as pd\n",
    "import matplotlib.pyplot as plt"
   ]
  },
  {
   "cell_type": "code",
   "execution_count": null,
   "metadata": {},
   "outputs": [],
   "source": [
    "COLUMNS = [\"time\",\"imei\",\"vbat_mv\",\"ci_job_id\",\"rsrq\",\"rsrp\",\"rsrq_db\",\"rsrp_dbm\",\"full_name\",\"plnm\",\"tac\",\"act\",\"band\",\"cell_id\",\"phys_cell_id\",\"earfcn\",\"snr\",\"nwp_edrx\",\"active_time\",\"periodic_tau_ext\",\"periodic_tau\",\"count\"]\n",
    "\n",
    "df = pd.read_csv(\"mls100ev_lte_data.csv\", names=COLUMNS)\n",
    "\n",
    "df.describe()"
   ]
  },
  {
   "cell_type": "code",
   "execution_count": null,
   "metadata": {},
   "outputs": [],
   "source": [
    "def plot_axis(df: pd.DataFrame, column: list[str], title: str = \"\", y_label = \"\"):\n",
    "    fig = plt.figure(figsize=(12, 5))\n",
    "    x_values = range(len(df))\n",
    "    for col in column:\n",
    "        plt.plot(x_values, df[col], label=col)\n",
    "    plt.ylabel(f\"{y_label}\")\n",
    "    plt.title(title)\n",
    "    plt.legend()\n",
    "    plt.show()\n",
    "\n",
    "\n",
    "plot_axis(df, [\"rsrp_dbm\"], title=\"signal strength\", y_label=\"[dBm]\")"
   ]
  }
 ],
 "metadata": {
  "kernelspec": {
   "display_name": "tensorflow",
   "language": "python",
   "name": "python3"
  },
  "language_info": {
   "codemirror_mode": {
    "name": "ipython",
    "version": 3
   },
   "file_extension": ".py",
   "mimetype": "text/x-python",
   "name": "python",
   "nbconvert_exporter": "python",
   "pygments_lexer": "ipython3",
   "version": "3.12.3"
  }
 },
 "nbformat": 4,
 "nbformat_minor": 2
}
