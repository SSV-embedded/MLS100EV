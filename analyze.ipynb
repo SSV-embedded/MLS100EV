{
 "cells": [
  {
   "cell_type": "code",
   "execution_count": 2,
   "metadata": {},
   "outputs": [],
   "source": [
    "import pandas as pd\n",
    "import matplotlib.pyplot as plt\n"
   ]
  },
  {
   "cell_type": "code",
   "execution_count": null,
   "metadata": {},
   "outputs": [],
   "source": [
    "data = pd.read_csv(\n",
    "    \"mls100ev_data.csv\",\n",
    "    names=[\n",
    "        \"time\",  # ms\n",
    "        \"x_rms\",\n",
    "        \"x_freq_0\",\n",
    "        \"x_mag_0\",\n",
    "        \"x_freq_1\",\n",
    "        \"x_mag_1\",\n",
    "        \"x_freq_2\",\n",
    "        \"x_mag_2\",\n",
    "        \"y_rms\",\n",
    "        \"y_freq_0\",\n",
    "        \"y_mag_0\",\n",
    "        \"y_freq_1\",\n",
    "        \"y_mag_1\",\n",
    "        \"y_freq_2\",\n",
    "        \"y_mag_2\",\n",
    "        \"z_rms\",\n",
    "        \"z_freq_0\",\n",
    "        \"z_mag_0\",\n",
    "        \"z_freq_1\",\n",
    "        \"z_mag_1\",\n",
    "        \"z_freq_2\",\n",
    "        \"z_mag_2\",\n",
    "    ],\n",
    ")\n",
    "data = data.dropna()\n",
    "\n",
    "data[\"time\"] = data[\"time\"] / 1000.0\n",
    "\n",
    "data.describe()"
   ]
  },
  {
   "cell_type": "code",
   "execution_count": null,
   "metadata": {},
   "outputs": [],
   "source": [
    "def plot_axis(df: pd.DataFrame, column: list[str], title: str = \"\"):\n",
    "    fig = plt.figure(figsize=(12, 5))\n",
    "    dpi = fig.set_dpi(300)\n",
    "    for col in column:\n",
    "        plt.plot(df[\"time\"], df[col], label=col)\n",
    "    plt.xlabel(\"Time [s]\")\n",
    "    plt.ylabel(\"Value [mg]\")\n",
    "    plt.title(title)\n",
    "    plt.legend()\n",
    "    plt.show()\n",
    "\n",
    "\n",
    "def plot_axis_log(df: pd.DataFrame, column: list[str], title: str = \"\"):\n",
    "    fig = plt.figure(figsize=(12, 5))\n",
    "    dpi = fig.set_dpi(300)\n",
    "    for col in column:\n",
    "        plt.plot(df[\"time\"], df[col], label=col)\n",
    "    plt.xlabel(\"Time [s]\")\n",
    "    plt.ylabel(\"Value [mg] - log\")\n",
    "    plt.yscale(\"log\")\n",
    "    plt.title(title)\n",
    "    plt.legend()\n",
    "    plt.show()\n",
    "\n",
    "\n",
    "plot_axis(data, [\"x_rms\", \"y_rms\", \"z_rms\"], title=\"RMS\")\n",
    "plot_axis_log(data, [\"x_rms\", \"y_rms\", \"z_rms\"], title=\"RMS log\")\n",
    "\n",
    "plot_axis(data, [\"x_mag_0\", \"x_mag_1\", \"x_mag_2\"], title=\"Magnitudes x axis\")\n",
    "plot_axis(data, [\"y_mag_0\", \"y_mag_1\", \"y_mag_2\"], title=\"Magnitudes y axis\")\n",
    "plot_axis(data, [\"z_mag_0\", \"z_mag_1\", \"z_mag_2\"], title=\"Magnitudes z axis\")\n"
   ]
  }
 ],
 "metadata": {
  "kernelspec": {
   "display_name": "tensorflow",
   "language": "python",
   "name": "python3"
  },
  "language_info": {
   "codemirror_mode": {
    "name": "ipython",
    "version": 3
   },
   "file_extension": ".py",
   "mimetype": "text/x-python",
   "name": "python",
   "nbconvert_exporter": "python",
   "pygments_lexer": "ipython3",
   "version": "3.12.3"
  }
 },
 "nbformat": 4,
 "nbformat_minor": 2
}
